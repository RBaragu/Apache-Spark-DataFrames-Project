{
  "nbformat": 4,
  "nbformat_minor": 0,
  "metadata": {
    "colab": {
      "name": "Apache Spark DataFrames Project.ipynb",
      "provenance": [],
      "authorship_tag": "ABX9TyOITD2F6v5/Rsz9lQt5skZV",
      "include_colab_link": true
    },
    "kernelspec": {
      "name": "python3",
      "display_name": "Python 3"
    },
    "language_info": {
      "name": "python"
    }
  },
  "cells": [
    {
      "cell_type": "markdown",
      "metadata": {
        "id": "view-in-github",
        "colab_type": "text"
      },
      "source": [
        "<a href=\"https://colab.research.google.com/github/RBaragu/Apache-Spark-DataFrames-Project/blob/main/Apache_Spark_DataFrames_Project.ipynb\" target=\"_parent\"><img src=\"https://colab.research.google.com/assets/colab-badge.svg\" alt=\"Open In Colab\"/></a>"
      ]
    },
    {
      "cell_type": "markdown",
      "source": [
        "1. **Defining the Question**\n",
        "\n",
        "\n",
        "a) Specifying the Data Analysis Question\n",
        "Perform an analysis on Safaricom stock market data from the years 2012-2016\n",
        "\n",
        "\n",
        "b) Defining the Metric for Success\n",
        "The analysis question will be answered by answering questions about some stock market data on Safaricom from the years 2012-2016\n",
        "\n",
        "\n",
        "c) Understanding the context\n",
        "As a Data professional, you need to perform an analysis by answering questions about some stock market data on Safaricom from the years 2012-2016\n",
        "\n",
        "\n",
        "d) Recording the Experimental Design\n",
        "Data Importation and Exploration\n",
        "Data Preparation\n",
        "Data Analysis\n",
        "\n",
        "\n",
        "e) Data Relevance\n",
        "The dataset includes Safaricom stock market daily data for the period Jan 2012 - Dec 2016, and is therefore relevant in answering the research question\n",
        "\n",
        "The dataset contains the following info on the daily stock trades:\n",
        "\n",
        "Date - The calender date\n",
        "Open - Opening price on the stock\n",
        "High - The maximum value reached by the stock\n",
        "Low - The minimum price of the stock\n",
        "Close - Closing price of the stock\n",
        "Volume - The number of shares that exchange hands for the stock\n",
        "Adj Close - Price value that incorporates changes resulting from corporate actions such as dividend payments, stock splits, or new share issuance."
      ],
      "metadata": {
        "id": "TD0DlCv0v64j"
      }
    },
    {
      "cell_type": "markdown",
      "source": [
        "2**.Data Importation and Exploration**\n"
      ],
      "metadata": {
        "id": "BD99xC8xwQgw"
      }
    },
    {
      "cell_type": "code",
      "source": [
        "#Start a spark session and load the stock file while inferring the data types.\n",
        "# Installing pyspark\n",
        "!pip install pyspark"
      ],
      "metadata": {
        "colab": {
          "base_uri": "https://localhost:8080/"
        },
        "id": "jViLD5w3wKYq",
        "outputId": "b9d2c696-40cf-4d26-f0b9-ec3b903b5167"
      },
      "execution_count": 1,
      "outputs": [
        {
          "output_type": "stream",
          "name": "stdout",
          "text": [
            "Collecting pyspark\n",
            "  Downloading pyspark-3.2.1.tar.gz (281.4 MB)\n",
            "\u001b[K     |████████████████████████████████| 281.4 MB 30 kB/s \n",
            "\u001b[?25hCollecting py4j==0.10.9.3\n",
            "  Downloading py4j-0.10.9.3-py2.py3-none-any.whl (198 kB)\n",
            "\u001b[K     |████████████████████████████████| 198 kB 49.8 MB/s \n",
            "\u001b[?25hBuilding wheels for collected packages: pyspark\n",
            "  Building wheel for pyspark (setup.py) ... \u001b[?25l\u001b[?25hdone\n",
            "  Created wheel for pyspark: filename=pyspark-3.2.1-py2.py3-none-any.whl size=281853642 sha256=589dd412552f3fe4d90d97f36f5368b532a4ba537158a049a8703a576e4400ef\n",
            "  Stored in directory: /root/.cache/pip/wheels/9f/f5/07/7cd8017084dce4e93e84e92efd1e1d5334db05f2e83bcef74f\n",
            "Successfully built pyspark\n",
            "Installing collected packages: py4j, pyspark\n",
            "Successfully installed py4j-0.10.9.3 pyspark-3.2.1\n"
          ]
        }
      ]
    },
    {
      "cell_type": "code",
      "source": [
        "#Creating local spark session\n",
        "from pyspark.sql import SparkSession\n",
        "spark = SparkSession.builder.master(\"local[*]\").getOrCreate()\n",
        "sc = spark.sparkContext\n"
      ],
      "metadata": {
        "id": "OtmZNvVj1Ifa"
      },
      "execution_count": 2,
      "outputs": []
    },
    {
      "cell_type": "code",
      "source": [
        "# Import SQLContext \n",
        "from pyspark.sql import SQLContext\n",
        "\n",
        "# Instantiate the SQLContext object and assign it to the variable sqlCtx and pass object sc\n",
        "\n",
        "sqlCtx = SQLContext(sc)\n",
        "\n",
        "# Read in the data into a DataFrame object `saf_stock_df`\n",
        "stock_df = sqlCtx.read.format(\"csv\").option(\"header\",\"true\").load(\"saf_stock.csv\")\n",
        "\n",
        "# Print the type\n",
        "print(type(stock_df))\n"
      ],
      "metadata": {
        "colab": {
          "base_uri": "https://localhost:8080/"
        },
        "id": "v7QVhrCG1c35",
        "outputId": "1d186cc0-8f1d-4dc9-8840-b01b4b017af4"
      },
      "execution_count": 4,
      "outputs": [
        {
          "output_type": "stream",
          "name": "stderr",
          "text": [
            "/usr/local/lib/python3.7/dist-packages/pyspark/sql/context.py:79: FutureWarning: Deprecated in 3.0.0. Use SparkSession.builder.getOrCreate() instead.\n",
            "  FutureWarning\n"
          ]
        },
        {
          "output_type": "stream",
          "name": "stdout",
          "text": [
            "<class 'pyspark.sql.dataframe.DataFrame'>\n"
          ]
        }
      ]
    },
    {
      "cell_type": "code",
      "source": [
        "#Determine the column names\n",
        "stock_df.columns"
      ],
      "metadata": {
        "colab": {
          "base_uri": "https://localhost:8080/"
        },
        "id": "asMJcL5Y17AA",
        "outputId": "85a4e7d3-0a8b-4b18-a6fd-7f9ee6e95851"
      },
      "execution_count": 5,
      "outputs": [
        {
          "output_type": "execute_result",
          "data": {
            "text/plain": [
              "['Date', 'Open', 'High', 'Low', 'Close', 'Volume', 'Adj Close']"
            ]
          },
          "metadata": {},
          "execution_count": 5
        }
      ]
    },
    {
      "cell_type": "code",
      "source": [
        "#Make observations about the schema\n",
        "stock_df.printSchema()"
      ],
      "metadata": {
        "colab": {
          "base_uri": "https://localhost:8080/"
        },
        "id": "rbBiNrPp2Coi",
        "outputId": "d6435aa5-0ffe-4bbc-cead-7ad4058deb05"
      },
      "execution_count": 6,
      "outputs": [
        {
          "output_type": "stream",
          "name": "stdout",
          "text": [
            "root\n",
            " |-- Date: string (nullable = true)\n",
            " |-- Open: string (nullable = true)\n",
            " |-- High: string (nullable = true)\n",
            " |-- Low: string (nullable = true)\n",
            " |-- Close: string (nullable = true)\n",
            " |-- Volume: string (nullable = true)\n",
            " |-- Adj Close: string (nullable = true)\n",
            "\n"
          ]
        }
      ]
    },
    {
      "cell_type": "markdown",
      "source": [
        "The df is in string format and its nullable with 7 columns"
      ],
      "metadata": {
        "id": "yqWt4Dej2Rwk"
      }
    },
    {
      "cell_type": "code",
      "source": [
        "#Show the first 5 rows\n",
        "stock_df.show(5)"
      ],
      "metadata": {
        "colab": {
          "base_uri": "https://localhost:8080/"
        },
        "id": "nHMRDWQP2Zn6",
        "outputId": "0ee503eb-e5f7-4559-aa22-48f246a95d0c"
      },
      "execution_count": 7,
      "outputs": [
        {
          "output_type": "stream",
          "name": "stdout",
          "text": [
            "+----------+------------------+---------+---------+------------------+--------+------------------+\n",
            "|      Date|              Open|     High|      Low|             Close|  Volume|         Adj Close|\n",
            "+----------+------------------+---------+---------+------------------+--------+------------------+\n",
            "|2012-01-03|         59.970001|61.060001|59.869999|         60.330002|12668800|52.619234999999996|\n",
            "|2012-01-04|60.209998999999996|60.349998|59.470001|59.709998999999996| 9593300|         52.078475|\n",
            "|2012-01-05|         59.349998|59.619999|58.369999|         59.419998|12768200|         51.825539|\n",
            "|2012-01-06|         59.419998|59.450001|58.869999|              59.0| 8069400|          51.45922|\n",
            "|2012-01-09|         59.029999|59.549999|58.919998|             59.18| 6679300|51.616215000000004|\n",
            "+----------+------------------+---------+---------+------------------+--------+------------------+\n",
            "only showing top 5 rows\n",
            "\n"
          ]
        }
      ]
    },
    {
      "cell_type": "code",
      "source": [
        "#Use the describe method to learn about the data frame\n",
        "stock_df.describe().show()"
      ],
      "metadata": {
        "colab": {
          "base_uri": "https://localhost:8080/"
        },
        "id": "GCxNB5XE2kgu",
        "outputId": "84d15720-7d4c-4548-8a5f-c27c494d7aed"
      },
      "execution_count": 8,
      "outputs": [
        {
          "output_type": "stream",
          "name": "stdout",
          "text": [
            "+-------+----------+------------------+-----------------+-----------------+-----------------+-----------------+-----------------+\n",
            "|summary|      Date|              Open|             High|              Low|            Close|           Volume|        Adj Close|\n",
            "+-------+----------+------------------+-----------------+-----------------+-----------------+-----------------+-----------------+\n",
            "|  count|      1258|              1258|             1258|             1258|             1258|             1258|             1258|\n",
            "|   mean|      null| 72.35785375357709|72.83938807631165| 71.9186009594594|72.38844998012726|8222093.481717011|67.23883848728146|\n",
            "| stddev|      null|  6.76809024470826|6.768186808159218|6.744075756255496|6.756859163732991|  4519780.8431556|6.722609449996857|\n",
            "|    min|2012-01-03|56.389998999999996|        57.060001|        56.299999|        56.419998|         10010500|        50.363689|\n",
            "|    max|2016-12-30|         90.800003|        90.970001|            89.25|        90.470001|          9994400|84.91421600000001|\n",
            "+-------+----------+------------------+-----------------+-----------------+-----------------+-----------------+-----------------+\n",
            "\n"
          ]
        }
      ]
    },
    {
      "cell_type": "markdown",
      "source": [
        "3. **Data Preparation**"
      ],
      "metadata": {
        "id": "nBKxSh3o2vKv"
      }
    },
    {
      "cell_type": "code",
      "source": [
        "#Format all the data to 2 decimal places i.e. format_number()\n",
        "# Import the format_number() fn\n",
        "from pyspark.sql.functions import format_number, col\n",
        "\n",
        "# Import the FloatType datatype\n",
        "from pyspark.sql.types import FloatType\n",
        "\n",
        "# Import the DecimalType datatype\n",
        "from pyspark.sql.types import DecimalType\n",
        "\n",
        "# Select columns to format\n",
        "columns = ['Open', 'High', 'Low', 'Close', 'Adj Close']\n",
        "\n",
        "# Iterate over all the cols and format to 2 decimal places\n",
        "for col in columns:\n",
        "  stock_df = stock_df.withColumn(col, format_number(stock_df[col].cast(\"float\"), 2))\n",
        "\n",
        "\n",
        "# Preview the dataset\n",
        "stock_df.show(5)"
      ],
      "metadata": {
        "colab": {
          "base_uri": "https://localhost:8080/"
        },
        "id": "K_alw_SR2zAw",
        "outputId": "b4d33b43-a08d-49ac-f734-5705a55a9cd3"
      },
      "execution_count": 10,
      "outputs": [
        {
          "output_type": "stream",
          "name": "stdout",
          "text": [
            "+----------+-----+-----+-----+-----+--------+---------+\n",
            "|      Date| Open| High|  Low|Close|  Volume|Adj Close|\n",
            "+----------+-----+-----+-----+-----+--------+---------+\n",
            "|2012-01-03|59.97|61.06|59.87|60.33|12668800|    52.62|\n",
            "|2012-01-04|60.21|60.35|59.47|59.71| 9593300|    52.08|\n",
            "|2012-01-05|59.35|59.62|58.37|59.42|12768200|    51.83|\n",
            "|2012-01-06|59.42|59.45|58.87|59.00| 8069400|    51.46|\n",
            "|2012-01-09|59.03|59.55|58.92|59.18| 6679300|    51.62|\n",
            "+----------+-----+-----+-----+-----+--------+---------+\n",
            "only showing top 5 rows\n",
            "\n"
          ]
        }
      ]
    },
    {
      "cell_type": "code",
      "source": [
        "#Create a new data frame with a column called HV Ratio that is the ratio of the\n",
        "#High Price versus volume of stock traded for a day\n",
        "stock_new = stock_df.withColumn(\"HV_Ratio\", stock_df.High/stock_df.Volume)\n",
        "\n",
        "stock_new.show(5)"
      ],
      "metadata": {
        "colab": {
          "base_uri": "https://localhost:8080/"
        },
        "id": "91aLijDm3uVP",
        "outputId": "c37eef15-3422-4656-9b52-cd7770632070"
      },
      "execution_count": 11,
      "outputs": [
        {
          "output_type": "stream",
          "name": "stdout",
          "text": [
            "+----------+-----+-----+-----+-----+--------+---------+--------------------+\n",
            "|      Date| Open| High|  Low|Close|  Volume|Adj Close|            HV_Ratio|\n",
            "+----------+-----+-----+-----+-----+--------+---------+--------------------+\n",
            "|2012-01-03|59.97|61.06|59.87|60.33|12668800|    52.62|4.819714574387472E-6|\n",
            "|2012-01-04|60.21|60.35|59.47|59.71| 9593300|    52.08|6.290848821573389...|\n",
            "|2012-01-05|59.35|59.62|58.37|59.42|12768200|    51.83|4.669413073103491E-6|\n",
            "|2012-01-06|59.42|59.45|58.87|59.00| 8069400|    51.46|7.367338339901356E-6|\n",
            "|2012-01-09|59.03|59.55|58.92|59.18| 6679300|    51.62|8.915604928660188E-6|\n",
            "+----------+-----+-----+-----+-----+--------+---------+--------------------+\n",
            "only showing top 5 rows\n",
            "\n"
          ]
        }
      ]
    },
    {
      "cell_type": "markdown",
      "source": [
        "4.**Data Analysis**\n"
      ],
      "metadata": {
        "id": "4wQN6_zv4KLn"
      }
    },
    {
      "cell_type": "code",
      "source": [
        "#What day had the Peak High in Price?\n",
        "#create a table table named safstock\n",
        "stock_new.createOrReplaceTempView('safstock')\n",
        "saftable = sqlCtx.tableNames()\n",
        "print(saftable)"
      ],
      "metadata": {
        "colab": {
          "base_uri": "https://localhost:8080/"
        },
        "id": "bUlCpKtK4NNc",
        "outputId": "fcfeb5d0-2f54-4fd3-af1c-9f97bae42735"
      },
      "execution_count": 12,
      "outputs": [
        {
          "output_type": "stream",
          "name": "stdout",
          "text": [
            "['safstock']\n"
          ]
        }
      ]
    },
    {
      "cell_type": "code",
      "source": [
        "high = 'select Date, max(High) from safstock group by 1 order by 2 desc'\n",
        "sqlCtx.sql(high).show(1)"
      ],
      "metadata": {
        "colab": {
          "base_uri": "https://localhost:8080/"
        },
        "id": "4lyJYYi55Y5H",
        "outputId": "8201fdd4-1438-427b-8db5-48b1d6c3669a"
      },
      "execution_count": 13,
      "outputs": [
        {
          "output_type": "stream",
          "name": "stdout",
          "text": [
            "+----------+---------+\n",
            "|      Date|max(High)|\n",
            "+----------+---------+\n",
            "|2015-01-13|    90.97|\n",
            "+----------+---------+\n",
            "only showing top 1 row\n",
            "\n"
          ]
        }
      ]
    },
    {
      "cell_type": "code",
      "source": [
        "#What is the mean of the Close column?\n",
        "mean = 'select round(avg(Close),2) as Avg_Close from safstock'\n",
        "sqlCtx.sql(mean).show()"
      ],
      "metadata": {
        "colab": {
          "base_uri": "https://localhost:8080/"
        },
        "id": "pUdSyaA35spw",
        "outputId": "5c81d76f-d1ec-4d7a-fef7-c2d7e536f779"
      },
      "execution_count": 14,
      "outputs": [
        {
          "output_type": "stream",
          "name": "stdout",
          "text": [
            "+---------+\n",
            "|Avg_Close|\n",
            "+---------+\n",
            "|    72.39|\n",
            "+---------+\n",
            "\n"
          ]
        }
      ]
    },
    {
      "cell_type": "code",
      "source": [
        "#What is the max and min of the Volume column?\n",
        "maxmin = 'select max(Volume) as Max_Volume, min(Volume) as Min_Volume from safstock'\n",
        "sqlCtx.sql(maxmin).show()"
      ],
      "metadata": {
        "colab": {
          "base_uri": "https://localhost:8080/"
        },
        "id": "ddbDiUs06Bxk",
        "outputId": "ab653bae-6fd0-4aa4-e7f9-e1f5ff8e092f"
      },
      "execution_count": 17,
      "outputs": [
        {
          "output_type": "stream",
          "name": "stdout",
          "text": [
            "+----------+----------+\n",
            "|Max_Volume|Min_Volume|\n",
            "+----------+----------+\n",
            "|   9994400|  10010500|\n",
            "+----------+----------+\n",
            "\n"
          ]
        }
      ]
    },
    {
      "cell_type": "code",
      "source": [
        "#How many days was the Close lower than 60 dollars?\n",
        "lower = 'select count(Date) from safstock where Close < 60'\n",
        "sqlCtx.sql(lower).show()"
      ],
      "metadata": {
        "colab": {
          "base_uri": "https://localhost:8080/"
        },
        "id": "MDtaf6FT6cnP",
        "outputId": "93c6cb52-053e-46f3-ec77-57d3fe63c52e"
      },
      "execution_count": 19,
      "outputs": [
        {
          "output_type": "stream",
          "name": "stdout",
          "text": [
            "+-----------+\n",
            "|count(Date)|\n",
            "+-----------+\n",
            "|         81|\n",
            "+-----------+\n",
            "\n"
          ]
        }
      ]
    },
    {
      "cell_type": "code",
      "source": [
        "#What percentage of the time was the High greater than 80 dollars?\n",
        "higher= \"\"\"select round(Over_80/Total * 100,2) as Over_80_Prop from \n",
        "          (Select count(Date) as Total, sum(Case when High > 80 then 1 else 0 end) as Over_80 \n",
        "          From safstock)\"\"\"\n",
        "sqlCtx.sql(higher).show()"
      ],
      "metadata": {
        "colab": {
          "base_uri": "https://localhost:8080/"
        },
        "id": "rHgTqkL46zaI",
        "outputId": "81b9e9fd-8fcb-4f8f-cc74-c9a1df72cdab"
      },
      "execution_count": 20,
      "outputs": [
        {
          "output_type": "stream",
          "name": "stdout",
          "text": [
            "+------------+\n",
            "|Over_80_Prop|\n",
            "+------------+\n",
            "|        8.43|\n",
            "+------------+\n",
            "\n"
          ]
        }
      ]
    },
    {
      "cell_type": "code",
      "source": [
        "#What is the Pearson correlation between High and Volume?\n",
        "correlation = 'select round(corr(High,Volume),2) as High_Vol_Corr from safstock'\n",
        "sqlCtx.sql(correlation).show()"
      ],
      "metadata": {
        "colab": {
          "base_uri": "https://localhost:8080/"
        },
        "id": "dSMF8Mzz7GO3",
        "outputId": "a13f4f55-2b4d-485b-b2f6-d999825bbc1f"
      },
      "execution_count": 21,
      "outputs": [
        {
          "output_type": "stream",
          "name": "stdout",
          "text": [
            "+-------------+\n",
            "|High_Vol_Corr|\n",
            "+-------------+\n",
            "|        -0.34|\n",
            "+-------------+\n",
            "\n"
          ]
        }
      ]
    },
    {
      "cell_type": "code",
      "source": [
        "#What is the max High per year?\n",
        "maxhigh = \"\"\"select substr(Date,1,4) as Year, max(High) as Year_High from safstock\n",
        "        group by 1 order by 1\"\"\"\n",
        "\n",
        "sqlCtx.sql(maxhigh).show()"
      ],
      "metadata": {
        "colab": {
          "base_uri": "https://localhost:8080/"
        },
        "id": "nGQYRAEK7YV4",
        "outputId": "06e841bc-e86b-481e-d523-8b7027f8a37f"
      },
      "execution_count": 22,
      "outputs": [
        {
          "output_type": "stream",
          "name": "stdout",
          "text": [
            "+----+---------+\n",
            "|Year|Year_High|\n",
            "+----+---------+\n",
            "|2012|    77.60|\n",
            "|2013|    81.37|\n",
            "|2014|    88.09|\n",
            "|2015|    90.97|\n",
            "|2016|    75.19|\n",
            "+----+---------+\n",
            "\n"
          ]
        }
      ]
    },
    {
      "cell_type": "code",
      "source": [
        "#What is the average Close for each Calendar Month?\n",
        "average = \"\"\"select substr(Date,6,2) as Month, round(avg(Close),2) as Monthly_Avg_Close \n",
        "            from safstock group by Month order by Month\"\"\"\n",
        "sqlCtx.sql(average).show()"
      ],
      "metadata": {
        "colab": {
          "base_uri": "https://localhost:8080/"
        },
        "id": "97BZUnj57q6g",
        "outputId": "8f110e85-ce82-4757-a02a-b53569698ee2"
      },
      "execution_count": 23,
      "outputs": [
        {
          "output_type": "stream",
          "name": "stdout",
          "text": [
            "+-----+-----------------+\n",
            "|Month|Monthly_Avg_Close|\n",
            "+-----+-----------------+\n",
            "|   01|            71.45|\n",
            "|   02|            71.31|\n",
            "|   03|            71.78|\n",
            "|   04|            72.97|\n",
            "|   05|            72.31|\n",
            "|   06|             72.5|\n",
            "|   07|            74.44|\n",
            "|   08|            73.03|\n",
            "|   09|            72.18|\n",
            "|   10|            71.58|\n",
            "|   11|            72.11|\n",
            "|   12|            72.85|\n",
            "+-----+-----------------+\n",
            "\n"
          ]
        }
      ]
    }
  ]
}